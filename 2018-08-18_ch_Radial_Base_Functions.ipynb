{
 "cells": [
  {
   "cell_type": "code",
   "execution_count": 135,
   "metadata": {},
   "outputs": [],
   "source": [
    "import pandas as pd\n",
    "import numpy as np \n",
    "import matplotlib as plt \n",
    "import seaborn as sns\n",
    "%matplotlib inline"
   ]
  },
  {
   "cell_type": "markdown",
   "metadata": {},
   "source": [
    "# Build dataframe with data for plotting\n",
    "\n",
    "$\\phi_{i} (x) = exp\\left( \\frac{-1}{2 \\alpha} (x-m_i)^2 \\right)$"
   ]
  },
  {
   "cell_type": "code",
   "execution_count": 116,
   "metadata": {
    "collapsed": true
   },
   "outputs": [],
   "source": [
    "def rbf(x, alpha, m):\n",
    "    return np.exp(-1/(2*alpha)*(x-m)**2)"
   ]
  },
  {
   "cell_type": "code",
   "execution_count": 143,
   "metadata": {},
   "outputs": [
    {
     "data": {
      "text/html": [
       "<div>\n",
       "<style scoped>\n",
       "    .dataframe tbody tr th:only-of-type {\n",
       "        vertical-align: middle;\n",
       "    }\n",
       "\n",
       "    .dataframe tbody tr th {\n",
       "        vertical-align: top;\n",
       "    }\n",
       "\n",
       "    .dataframe thead th {\n",
       "        text-align: right;\n",
       "    }\n",
       "</style>\n",
       "<table border=\"1\" class=\"dataframe\">\n",
       "  <thead>\n",
       "    <tr style=\"text-align: right;\">\n",
       "      <th>m</th>\n",
       "      <th>0</th>\n",
       "      <th>1</th>\n",
       "      <th>2</th>\n",
       "      <th>3</th>\n",
       "      <th>4</th>\n",
       "    </tr>\n",
       "    <tr>\n",
       "      <th>x</th>\n",
       "      <th></th>\n",
       "      <th></th>\n",
       "      <th></th>\n",
       "      <th></th>\n",
       "      <th></th>\n",
       "    </tr>\n",
       "  </thead>\n",
       "  <tbody>\n",
       "    <tr>\n",
       "      <th>-2.00</th>\n",
       "      <td>0.000335</td>\n",
       "      <td>1.522998e-08</td>\n",
       "      <td>1.266417e-14</td>\n",
       "      <td>1.928750e-22</td>\n",
       "      <td>5.380186e-32</td>\n",
       "    </tr>\n",
       "    <tr>\n",
       "      <th>-1.99</th>\n",
       "      <td>0.000363</td>\n",
       "      <td>1.716832e-08</td>\n",
       "      <td>1.485856e-14</td>\n",
       "      <td>2.355309e-22</td>\n",
       "      <td>6.838189e-32</td>\n",
       "    </tr>\n",
       "    <tr>\n",
       "      <th>-1.98</th>\n",
       "      <td>0.000393</td>\n",
       "      <td>1.934562e-08</td>\n",
       "      <td>1.742623e-14</td>\n",
       "      <td>2.875056e-22</td>\n",
       "      <td>8.687828e-32</td>\n",
       "    </tr>\n",
       "    <tr>\n",
       "      <th>-1.97</th>\n",
       "      <td>0.000426</td>\n",
       "      <td>2.179032e-08</td>\n",
       "      <td>2.042943e-14</td>\n",
       "      <td>3.508091e-22</td>\n",
       "      <td>1.103336e-31</td>\n",
       "    </tr>\n",
       "    <tr>\n",
       "      <th>-1.96</th>\n",
       "      <td>0.000460</td>\n",
       "      <td>2.453415e-08</td>\n",
       "      <td>2.394062e-14</td>\n",
       "      <td>4.278798e-22</td>\n",
       "      <td>1.400652e-31</td>\n",
       "    </tr>\n",
       "  </tbody>\n",
       "</table>\n",
       "</div>"
      ],
      "text/plain": [
       "m             0             1             2             3             4\n",
       "x                                                                      \n",
       "-2.00  0.000335  1.522998e-08  1.266417e-14  1.928750e-22  5.380186e-32\n",
       "-1.99  0.000363  1.716832e-08  1.485856e-14  2.355309e-22  6.838189e-32\n",
       "-1.98  0.000393  1.934562e-08  1.742623e-14  2.875056e-22  8.687828e-32\n",
       "-1.97  0.000426  2.179032e-08  2.042943e-14  3.508091e-22  1.103336e-31\n",
       "-1.96  0.000460  2.453415e-08  2.394062e-14  4.278798e-22  1.400652e-31"
      ]
     },
     "execution_count": 143,
     "metadata": {},
     "output_type": "execute_result"
    }
   ],
   "source": [
    "# Generate data with rbf\n",
    "x = np.arange(-2, 5, 0.01)\n",
    "df=pd.DataFrame(data=x, columns=['x']).set_index('x')\n",
    "## make 5 radial functions, with different m \n",
    "for i in range(5):\n",
    "    df[str(i)] = rbf(x,.25,i)\n",
    "df.rename_axis('m', axis='columns', inplace = True)\n",
    "df.head()"
   ]
  },
  {
   "cell_type": "code",
   "execution_count": 123,
   "metadata": {},
   "outputs": [
    {
     "data": {
      "image/png": "[encoded data removed]",
      "text/plain": [
       "<matplotlib.figure.Figure at 0x10f539dd8>"
      ]
     },
     "metadata": {},
     "output_type": "display_data"
    }
   ],
   "source": [
    "df.plot();"
   ]
  },
  {
   "cell_type": "markdown",
   "metadata": {},
   "source": [
    "# Example: pattern learning with rbf and linear regression\n",
    "Assuming $\\alpha=1$, then \n",
    "\n",
    "$\\phi_{i} (x) = exp\\left( \\frac{-1}{2} (x-m_i)^2 \\right)$"
   ]
  },
  {
   "cell_type": "markdown",
   "metadata": {},
   "source": [
    "## Generate monthly data"
   ]
  },
  {
   "cell_type": "code",
   "execution_count": 124,
   "metadata": {},
   "outputs": [
    {
     "data": {
      "text/html": [
       "<div>\n",
       "<style scoped>\n",
       "    .dataframe tbody tr th:only-of-type {\n",
       "        vertical-align: middle;\n",
       "    }\n",
       "\n",
       "    .dataframe tbody tr th {\n",
       "        vertical-align: top;\n",
       "    }\n",
       "\n",
       "    .dataframe thead th {\n",
       "        text-align: right;\n",
       "    }\n",
       "</style>\n",
       "<table border=\"1\" class=\"dataframe\">\n",
       "  <thead>\n",
       "    <tr style=\"text-align: right;\">\n",
       "      <th></th>\n",
       "      <th>x</th>\n",
       "      <th>y</th>\n",
       "    </tr>\n",
       "  </thead>\n",
       "  <tbody>\n",
       "    <tr>\n",
       "      <th>0</th>\n",
       "      <td>0.00</td>\n",
       "      <td>2.142937</td>\n",
       "    </tr>\n",
       "    <tr>\n",
       "      <th>1</th>\n",
       "      <td>0.01</td>\n",
       "      <td>2.171556</td>\n",
       "    </tr>\n",
       "    <tr>\n",
       "      <th>2</th>\n",
       "      <td>0.02</td>\n",
       "      <td>2.149248</td>\n",
       "    </tr>\n",
       "    <tr>\n",
       "      <th>3</th>\n",
       "      <td>0.03</td>\n",
       "      <td>1.886804</td>\n",
       "    </tr>\n",
       "    <tr>\n",
       "      <th>4</th>\n",
       "      <td>0.04</td>\n",
       "      <td>1.839648</td>\n",
       "    </tr>\n",
       "  </tbody>\n",
       "</table>\n",
       "</div>"
      ],
      "text/plain": [
       "      x         y\n",
       "0  0.00  2.142937\n",
       "1  0.01  2.171556\n",
       "2  0.02  2.149248\n",
       "3  0.03  1.886804\n",
       "4  0.04  1.839648"
      ]
     },
     "execution_count": 124,
     "metadata": {},
     "output_type": "execute_result"
    }
   ],
   "source": [
    "# Generate rbf\n",
    "x = np.arange(0, 12, 0.01)\n",
    "df=pd.DataFrame(data=x, columns=['x'])\n",
    "df['y'] = np.sin(x) + 2*np.cos(x/2) + np.random.normal(loc=0.0, scale=.2, size=len(df))\n",
    "df.head()"
   ]
  },
  {
   "cell_type": "code",
   "execution_count": 125,
   "metadata": {},
   "outputs": [
    {
     "data": {
      "image/png": "[encoded data removed]",
      "text/plain": [
       "<matplotlib.figure.Figure at 0x11547aba8>"
      ]
     },
     "metadata": {},
     "output_type": "display_data"
    }
   ],
   "source": [
    "df.plot(kind='scatter', x='x', y='y');"
   ]
  },
  {
   "cell_type": "markdown",
   "metadata": {},
   "source": [
    "## With $\\alpha =1$ add a radial function for each month "
   ]
  },
  {
   "cell_type": "code",
   "execution_count": 126,
   "metadata": {
    "collapsed": true
   },
   "outputs": [],
   "source": [
    "for i in range(1,13):\n",
    "    df[str(i)] = rbf(df['x'],1,i)"
   ]
  },
  {
   "cell_type": "code",
   "execution_count": 127,
   "metadata": {},
   "outputs": [
    {
     "data": {
      "text/html": [
       "<div>\n",
       "<style scoped>\n",
       "    .dataframe tbody tr th:only-of-type {\n",
       "        vertical-align: middle;\n",
       "    }\n",
       "\n",
       "    .dataframe tbody tr th {\n",
       "        vertical-align: top;\n",
       "    }\n",
       "\n",
       "    .dataframe thead th {\n",
       "        text-align: right;\n",
       "    }\n",
       "</style>\n",
       "<table border=\"1\" class=\"dataframe\">\n",
       "  <thead>\n",
       "    <tr style=\"text-align: right;\">\n",
       "      <th></th>\n",
       "      <th>x</th>\n",
       "      <th>y</th>\n",
       "      <th>1</th>\n",
       "      <th>2</th>\n",
       "      <th>3</th>\n",
       "      <th>4</th>\n",
       "      <th>5</th>\n",
       "      <th>6</th>\n",
       "      <th>7</th>\n",
       "      <th>8</th>\n",
       "      <th>9</th>\n",
       "      <th>10</th>\n",
       "      <th>11</th>\n",
       "      <th>12</th>\n",
       "    </tr>\n",
       "  </thead>\n",
       "  <tbody>\n",
       "    <tr>\n",
       "      <th>0</th>\n",
       "      <td>0.00</td>\n",
       "      <td>2.142937</td>\n",
       "      <td>0.606531</td>\n",
       "      <td>0.135335</td>\n",
       "      <td>0.011109</td>\n",
       "      <td>0.000335</td>\n",
       "      <td>0.000004</td>\n",
       "      <td>1.522998e-08</td>\n",
       "      <td>2.289735e-11</td>\n",
       "      <td>1.266417e-14</td>\n",
       "      <td>2.576757e-18</td>\n",
       "      <td>1.928750e-22</td>\n",
       "      <td>5.311092e-27</td>\n",
       "      <td>5.380186e-32</td>\n",
       "    </tr>\n",
       "    <tr>\n",
       "      <th>1</th>\n",
       "      <td>0.01</td>\n",
       "      <td>2.171556</td>\n",
       "      <td>0.612596</td>\n",
       "      <td>0.138062</td>\n",
       "      <td>0.011447</td>\n",
       "      <td>0.000349</td>\n",
       "      <td>0.000004</td>\n",
       "      <td>1.617094e-08</td>\n",
       "      <td>2.455637e-11</td>\n",
       "      <td>1.371824e-14</td>\n",
       "      <td>2.819280e-18</td>\n",
       "      <td>2.131492e-22</td>\n",
       "      <td>5.928359e-27</td>\n",
       "      <td>6.065840e-32</td>\n",
       "    </tr>\n",
       "    <tr>\n",
       "      <th>2</th>\n",
       "      <td>0.02</td>\n",
       "      <td>2.149248</td>\n",
       "      <td>0.618660</td>\n",
       "      <td>0.140830</td>\n",
       "      <td>0.011794</td>\n",
       "      <td>0.000363</td>\n",
       "      <td>0.000004</td>\n",
       "      <td>1.716832e-08</td>\n",
       "      <td>2.633295e-11</td>\n",
       "      <td>1.485856e-14</td>\n",
       "      <td>3.084321e-18</td>\n",
       "      <td>2.355309e-22</td>\n",
       "      <td>6.616705e-27</td>\n",
       "      <td>6.838189e-32</td>\n",
       "    </tr>\n",
       "    <tr>\n",
       "      <th>3</th>\n",
       "      <td>0.03</td>\n",
       "      <td>1.886804</td>\n",
       "      <td>0.624721</td>\n",
       "      <td>0.143639</td>\n",
       "      <td>0.012150</td>\n",
       "      <td>0.000378</td>\n",
       "      <td>0.000004</td>\n",
       "      <td>1.822539e-08</td>\n",
       "      <td>2.823525e-11</td>\n",
       "      <td>1.609207e-14</td>\n",
       "      <td>3.373942e-18</td>\n",
       "      <td>2.602369e-22</td>\n",
       "      <td>7.384236e-27</td>\n",
       "      <td>7.708110e-32</td>\n",
       "    </tr>\n",
       "    <tr>\n",
       "      <th>4</th>\n",
       "      <td>0.04</td>\n",
       "      <td>1.839648</td>\n",
       "      <td>0.630779</td>\n",
       "      <td>0.146490</td>\n",
       "      <td>0.012515</td>\n",
       "      <td>0.000393</td>\n",
       "      <td>0.000005</td>\n",
       "      <td>1.934562e-08</td>\n",
       "      <td>3.027194e-11</td>\n",
       "      <td>1.742623e-14</td>\n",
       "      <td>3.690388e-18</td>\n",
       "      <td>2.875056e-22</td>\n",
       "      <td>8.239977e-27</td>\n",
       "      <td>8.687828e-32</td>\n",
       "    </tr>\n",
       "  </tbody>\n",
       "</table>\n",
       "</div>"
      ],
      "text/plain": [
       "      x         y         1         2         3         4         5  \\\n",
       "0  0.00  2.142937  0.606531  0.135335  0.011109  0.000335  0.000004   \n",
       "1  0.01  2.171556  0.612596  0.138062  0.011447  0.000349  0.000004   \n",
       "2  0.02  2.149248  0.618660  0.140830  0.011794  0.000363  0.000004   \n",
       "3  0.03  1.886804  0.624721  0.143639  0.012150  0.000378  0.000004   \n",
       "4  0.04  1.839648  0.630779  0.146490  0.012515  0.000393  0.000005   \n",
       "\n",
       "              6             7             8             9            10  \\\n",
       "0  1.522998e-08  2.289735e-11  1.266417e-14  2.576757e-18  1.928750e-22   \n",
       "1  1.617094e-08  2.455637e-11  1.371824e-14  2.819280e-18  2.131492e-22   \n",
       "2  1.716832e-08  2.633295e-11  1.485856e-14  3.084321e-18  2.355309e-22   \n",
       "3  1.822539e-08  2.823525e-11  1.609207e-14  3.373942e-18  2.602369e-22   \n",
       "4  1.934562e-08  3.027194e-11  1.742623e-14  3.690388e-18  2.875056e-22   \n",
       "\n",
       "             11            12  \n",
       "0  5.311092e-27  5.380186e-32  \n",
       "1  5.928359e-27  6.065840e-32  \n",
       "2  6.616705e-27  6.838189e-32  \n",
       "3  7.384236e-27  7.708110e-32  \n",
       "4  8.239977e-27  8.687828e-32  "
      ]
     },
     "execution_count": 127,
     "metadata": {},
     "output_type": "execute_result"
    }
   ],
   "source": [
    "df.head()"
   ]
  },
  {
   "cell_type": "code",
   "execution_count": 128,
   "metadata": {},
   "outputs": [
    {
     "data": {
      "image/png": "[encoded data removed]",
      "text/plain": [
       "<matplotlib.figure.Figure at 0x11554a518>"
      ]
     },
     "metadata": {},
     "output_type": "display_data"
    }
   ],
   "source": [
    "df.set_index('x').plot(figsize=(12,6));"
   ]
  },
  {
   "cell_type": "markdown",
   "metadata": {},
   "source": [
    "# Forecasting bridge data with rbf linear regression "
   ]
  },
  {
   "cell_type": "markdown",
   "metadata": {},
   "source": [
    "# Testing linear regression methods and results"
   ]
  },
  {
   "cell_type": "code",
   "execution_count": 130,
   "metadata": {
    "collapsed": true
   },
   "outputs": [],
   "source": [
    "import statsmodels.formula.api as sm"
   ]
  },
  {
   "cell_type": "code",
   "execution_count": 278,
   "metadata": {},
   "outputs": [
    {
     "data": {
      "text/html": [
       "<div>\n",
       "<style scoped>\n",
       "    .dataframe tbody tr th:only-of-type {\n",
       "        vertical-align: middle;\n",
       "    }\n",
       "\n",
       "    .dataframe tbody tr th {\n",
       "        vertical-align: top;\n",
       "    }\n",
       "\n",
       "    .dataframe thead th {\n",
       "        text-align: right;\n",
       "    }\n",
       "</style>\n",
       "<table border=\"1\" class=\"dataframe\">\n",
       "  <thead>\n",
       "    <tr style=\"text-align: right;\">\n",
       "      <th></th>\n",
       "      <th>x</th>\n",
       "      <th>intercept</th>\n",
       "      <th>y</th>\n",
       "    </tr>\n",
       "  </thead>\n",
       "  <tbody>\n",
       "    <tr>\n",
       "      <th>0</th>\n",
       "      <td>-1.0</td>\n",
       "      <td>1.0</td>\n",
       "      <td>0.918283</td>\n",
       "    </tr>\n",
       "    <tr>\n",
       "      <th>1</th>\n",
       "      <td>-0.9</td>\n",
       "      <td>1.0</td>\n",
       "      <td>1.113184</td>\n",
       "    </tr>\n",
       "    <tr>\n",
       "      <th>2</th>\n",
       "      <td>-0.8</td>\n",
       "      <td>1.0</td>\n",
       "      <td>1.316411</td>\n",
       "    </tr>\n",
       "    <tr>\n",
       "      <th>3</th>\n",
       "      <td>-0.7</td>\n",
       "      <td>1.0</td>\n",
       "      <td>1.657969</td>\n",
       "    </tr>\n",
       "    <tr>\n",
       "      <th>4</th>\n",
       "      <td>-0.6</td>\n",
       "      <td>1.0</td>\n",
       "      <td>1.731461</td>\n",
       "    </tr>\n",
       "  </tbody>\n",
       "</table>\n",
       "</div>"
      ],
      "text/plain": [
       "     x  intercept         y\n",
       "0 -1.0        1.0  0.918283\n",
       "1 -0.9        1.0  1.113184\n",
       "2 -0.8        1.0  1.316411\n",
       "3 -0.7        1.0  1.657969\n",
       "4 -0.6        1.0  1.731461"
      ]
     },
     "execution_count": 278,
     "metadata": {},
     "output_type": "execute_result"
    }
   ],
   "source": [
    "x = np.arange(-1, 1.1, .1)\n",
    "df = pd.DataFrame(data=x, columns=['x'])\n",
    "df['intercept'] =np.ones(len(df))\n",
    "df['y'] = 2*df['x']+3+ np.random.normal(loc=0.0, scale=.2, size=len(df)) \n",
    "df.head()"
   ]
  },
  {
   "cell_type": "code",
   "execution_count": 279,
   "metadata": {},
   "outputs": [
    {
     "data": {
      "image/png": "[encoded data removed]",
      "text/plain": [
       "<matplotlib.figure.Figure at 0x10f6bcef0>"
      ]
     },
     "metadata": {},
     "output_type": "display_data"
    }
   ],
   "source": [
    "df.plot(kind='scatter', x='x',y='y');"
   ]
  },
  {
   "cell_type": "code",
   "execution_count": 280,
   "metadata": {},
   "outputs": [
    {
     "data": {
      "text/html": [
       "<table class=\"simpletable\">\n",
       "<caption>OLS Regression Results</caption>\n",
       "<tr>\n",
       "  <th>Dep. Variable:</th>            <td>y</td>        <th>  R-squared:         </th> <td>   0.980</td>\n",
       "</tr>\n",
       "<tr>\n",
       "  <th>Model:</th>                   <td>OLS</td>       <th>  Adj. R-squared:    </th> <td>   0.979</td>\n",
       "</tr>\n",
       "<tr>\n",
       "  <th>Method:</th>             <td>Least Squares</td>  <th>  F-statistic:       </th> <td>   915.4</td>\n",
       "</tr>\n",
       "<tr>\n",
       "  <th>Date:</th>             <td>Sun, 19 Aug 2018</td> <th>  Prob (F-statistic):</th> <td>1.55e-17</td>\n",
       "</tr>\n",
       "<tr>\n",
       "  <th>Time:</th>                 <td>16:28:37</td>     <th>  Log-Likelihood:    </th> <td>  6.6703</td>\n",
       "</tr>\n",
       "<tr>\n",
       "  <th>No. Observations:</th>      <td>    21</td>      <th>  AIC:               </th> <td>  -9.341</td>\n",
       "</tr>\n",
       "<tr>\n",
       "  <th>Df Residuals:</th>          <td>    19</td>      <th>  BIC:               </th> <td>  -7.252</td>\n",
       "</tr>\n",
       "<tr>\n",
       "  <th>Df Model:</th>              <td>     1</td>      <th>                     </th>     <td> </td>   \n",
       "</tr>\n",
       "<tr>\n",
       "  <th>Covariance Type:</th>      <td>nonrobust</td>    <th>                     </th>     <td> </td>   \n",
       "</tr>\n",
       "</table>\n",
       "<table class=\"simpletable\">\n",
       "<tr>\n",
       "      <td></td>         <th>coef</th>     <th>std err</th>      <th>t</th>      <th>P>|t|</th>  <th>[0.025</th>    <th>0.975]</th>  \n",
       "</tr>\n",
       "<tr>\n",
       "  <th>x</th>         <td>    2.0188</td> <td>    0.067</td> <td>   30.255</td> <td> 0.000</td> <td>    1.879</td> <td>    2.158</td>\n",
       "</tr>\n",
       "<tr>\n",
       "  <th>intercept</th> <td>    2.9083</td> <td>    0.040</td> <td>   71.979</td> <td> 0.000</td> <td>    2.824</td> <td>    2.993</td>\n",
       "</tr>\n",
       "</table>\n",
       "<table class=\"simpletable\">\n",
       "<tr>\n",
       "  <th>Omnibus:</th>       <td> 2.490</td> <th>  Durbin-Watson:     </th> <td>   2.187</td>\n",
       "</tr>\n",
       "<tr>\n",
       "  <th>Prob(Omnibus):</th> <td> 0.288</td> <th>  Jarque-Bera (JB):  </th> <td>   1.605</td>\n",
       "</tr>\n",
       "<tr>\n",
       "  <th>Skew:</th>          <td>-0.677</td> <th>  Prob(JB):          </th> <td>   0.448</td>\n",
       "</tr>\n",
       "<tr>\n",
       "  <th>Kurtosis:</th>      <td> 2.956</td> <th>  Cond. No.          </th> <td>    1.65</td>\n",
       "</tr>\n",
       "</table>"
      ],
      "text/plain": [
       "<class 'statsmodels.iolib.summary.Summary'>\n",
       "\"\"\"\n",
       "                            OLS Regression Results                            \n",
       "==============================================================================\n",
       "Dep. Variable:                      y   R-squared:                       0.980\n",
       "Model:                            OLS   Adj. R-squared:                  0.979\n",
       "Method:                 Least Squares   F-statistic:                     915.4\n",
       "Date:                Sun, 19 Aug 2018   Prob (F-statistic):           1.55e-17\n",
       "Time:                        16:28:37   Log-Likelihood:                 6.6703\n",
       "No. Observations:                  21   AIC:                            -9.341\n",
       "Df Residuals:                      19   BIC:                            -7.252\n",
       "Df Model:                           1                                         \n",
       "Covariance Type:            nonrobust                                         \n",
       "==============================================================================\n",
       "                 coef    std err          t      P>|t|      [0.025      0.975]\n",
       "------------------------------------------------------------------------------\n",
       "x              2.0188      0.067     30.255      0.000       1.879       2.158\n",
       "intercept      2.9083      0.040     71.979      0.000       2.824       2.993\n",
       "==============================================================================\n",
       "Omnibus:                        2.490   Durbin-Watson:                   2.187\n",
       "Prob(Omnibus):                  0.288   Jarque-Bera (JB):                1.605\n",
       "Skew:                          -0.677   Prob(JB):                        0.448\n",
       "Kurtosis:                       2.956   Cond. No.                         1.65\n",
       "==============================================================================\n",
       "\n",
       "Warnings:\n",
       "[1] Standard Errors assume that the covariance matrix of the errors is correctly specified.\n",
       "\"\"\""
      ]
     },
     "execution_count": 280,
     "metadata": {},
     "output_type": "execute_result"
    }
   ],
   "source": [
    "X = df[['x', 'intercept']]\n",
    "Y = df['y']\n",
    "model = sm.OLS( Y, X ).fit()\n",
    "df['model'] = model.predict(X)\n",
    "model.summary()"
   ]
  },
  {
   "cell_type": "code",
   "execution_count": 281,
   "metadata": {},
   "outputs": [
    {
     "name": "stderr",
     "output_type": "stream",
     "text": [
      "/Users/cristian/anaconda/lib/python3.6/site-packages/pandas/plotting/_core.py:1714: UserWarning: Pandas doesn't allow columns to be created via a new attribute name - see https://pandas.pydata.org/pandas-docs/stable/indexing.html#attribute-access\n",
      "  series.name = label\n"
     ]
    },
    {
     "data": {
      "image/png": "[encoded data removed]",
      "text/plain": [
       "<matplotlib.figure.Figure at 0x10efd5828>"
      ]
     },
     "metadata": {},
     "output_type": "display_data"
    }
   ],
   "source": [
    "df.plot( x='x', y=['y','model']);"
   ]
  },
  {
   "cell_type": "markdown",
   "metadata": {},
   "source": [
    "## add more independent variables"
   ]
  },
  {
   "cell_type": "code",
   "execution_count": 282,
   "metadata": {},
   "outputs": [
    {
     "data": {
      "text/html": [
       "<div>\n",
       "<style scoped>\n",
       "    .dataframe tbody tr th:only-of-type {\n",
       "        vertical-align: middle;\n",
       "    }\n",
       "\n",
       "    .dataframe tbody tr th {\n",
       "        vertical-align: top;\n",
       "    }\n",
       "\n",
       "    .dataframe thead th {\n",
       "        text-align: right;\n",
       "    }\n",
       "</style>\n",
       "<table border=\"1\" class=\"dataframe\">\n",
       "  <thead>\n",
       "    <tr style=\"text-align: right;\">\n",
       "      <th></th>\n",
       "      <th>x</th>\n",
       "      <th>intercept</th>\n",
       "      <th>cos</th>\n",
       "      <th>y</th>\n",
       "    </tr>\n",
       "  </thead>\n",
       "  <tbody>\n",
       "    <tr>\n",
       "      <th>0</th>\n",
       "      <td>-1.0</td>\n",
       "      <td>1.0</td>\n",
       "      <td>1.080605</td>\n",
       "      <td>1.630409</td>\n",
       "    </tr>\n",
       "    <tr>\n",
       "      <th>1</th>\n",
       "      <td>-0.9</td>\n",
       "      <td>1.0</td>\n",
       "      <td>1.243220</td>\n",
       "      <td>2.728106</td>\n",
       "    </tr>\n",
       "    <tr>\n",
       "      <th>2</th>\n",
       "      <td>-0.8</td>\n",
       "      <td>1.0</td>\n",
       "      <td>1.393413</td>\n",
       "      <td>2.707396</td>\n",
       "    </tr>\n",
       "    <tr>\n",
       "      <th>3</th>\n",
       "      <td>-0.7</td>\n",
       "      <td>1.0</td>\n",
       "      <td>1.529684</td>\n",
       "      <td>3.020428</td>\n",
       "    </tr>\n",
       "    <tr>\n",
       "      <th>4</th>\n",
       "      <td>-0.6</td>\n",
       "      <td>1.0</td>\n",
       "      <td>1.650671</td>\n",
       "      <td>3.512347</td>\n",
       "    </tr>\n",
       "  </tbody>\n",
       "</table>\n",
       "</div>"
      ],
      "text/plain": [
       "     x  intercept       cos         y\n",
       "0 -1.0        1.0  1.080605  1.630409\n",
       "1 -0.9        1.0  1.243220  2.728106\n",
       "2 -0.8        1.0  1.393413  2.707396\n",
       "3 -0.7        1.0  1.529684  3.020428\n",
       "4 -0.6        1.0  1.650671  3.512347"
      ]
     },
     "execution_count": 282,
     "metadata": {},
     "output_type": "execute_result"
    }
   ],
   "source": [
    "x = np.arange(-1, 1.1, .1)\n",
    "df = pd.DataFrame(data=x, columns=['x'])\n",
    "df['intercept'] =np.ones(len(df))\n",
    "df['cos'] = 2*np.cos(df['x'])\n",
    "df['y'] = 2*df['x']+3 + df['cos'] + np.random.normal(loc=0.0, scale=.2, size=len(df))\n",
    "df.head()"
   ]
  },
  {
   "cell_type": "code",
   "execution_count": 283,
   "metadata": {},
   "outputs": [
    {
     "data": {
      "image/png": "[encoded data removed]",
      "text/plain": [
       "<matplotlib.figure.Figure at 0x115ad7f60>"
      ]
     },
     "metadata": {},
     "output_type": "display_data"
    }
   ],
   "source": [
    "df.plot(kind='scatter', x='x',y='y');"
   ]
  },
  {
   "cell_type": "code",
   "execution_count": 284,
   "metadata": {},
   "outputs": [
    {
     "data": {
      "text/html": [
       "<table class=\"simpletable\">\n",
       "<caption>OLS Regression Results</caption>\n",
       "<tr>\n",
       "  <th>Dep. Variable:</th>            <td>y</td>        <th>  R-squared:         </th> <td>   0.974</td>\n",
       "</tr>\n",
       "<tr>\n",
       "  <th>Model:</th>                   <td>OLS</td>       <th>  Adj. R-squared:    </th> <td>   0.972</td>\n",
       "</tr>\n",
       "<tr>\n",
       "  <th>Method:</th>             <td>Least Squares</td>  <th>  F-statistic:       </th> <td>   343.9</td>\n",
       "</tr>\n",
       "<tr>\n",
       "  <th>Date:</th>             <td>Sun, 19 Aug 2018</td> <th>  Prob (F-statistic):</th> <td>4.56e-15</td>\n",
       "</tr>\n",
       "<tr>\n",
       "  <th>Time:</th>                 <td>16:28:41</td>     <th>  Log-Likelihood:    </th> <td>  3.5169</td>\n",
       "</tr>\n",
       "<tr>\n",
       "  <th>No. Observations:</th>      <td>    21</td>      <th>  AIC:               </th> <td>  -1.034</td>\n",
       "</tr>\n",
       "<tr>\n",
       "  <th>Df Residuals:</th>          <td>    18</td>      <th>  BIC:               </th> <td>   2.100</td>\n",
       "</tr>\n",
       "<tr>\n",
       "  <th>Df Model:</th>              <td>     2</td>      <th>                     </th>     <td> </td>   \n",
       "</tr>\n",
       "<tr>\n",
       "  <th>Covariance Type:</th>      <td>nonrobust</td>    <th>                     </th>     <td> </td>   \n",
       "</tr>\n",
       "</table>\n",
       "<table class=\"simpletable\">\n",
       "<tr>\n",
       "      <td></td>         <th>coef</th>     <th>std err</th>      <th>t</th>      <th>P>|t|</th>  <th>[0.025</th>    <th>0.975]</th>  \n",
       "</tr>\n",
       "<tr>\n",
       "  <th>x</th>         <td>    2.0329</td> <td>    0.080</td> <td>   25.518</td> <td> 0.000</td> <td>    1.865</td> <td>    2.200</td>\n",
       "</tr>\n",
       "<tr>\n",
       "  <th>intercept</th> <td>    3.0187</td> <td>    0.268</td> <td>   11.254</td> <td> 0.000</td> <td>    2.455</td> <td>    3.582</td>\n",
       "</tr>\n",
       "<tr>\n",
       "  <th>cos</th>       <td>    0.9665</td> <td>    0.160</td> <td>    6.055</td> <td> 0.000</td> <td>    0.631</td> <td>    1.302</td>\n",
       "</tr>\n",
       "</table>\n",
       "<table class=\"simpletable\">\n",
       "<tr>\n",
       "  <th>Omnibus:</th>       <td> 1.083</td> <th>  Durbin-Watson:     </th> <td>   2.530</td>\n",
       "</tr>\n",
       "<tr>\n",
       "  <th>Prob(Omnibus):</th> <td> 0.582</td> <th>  Jarque-Bera (JB):  </th> <td>   1.016</td>\n",
       "</tr>\n",
       "<tr>\n",
       "  <th>Skew:</th>          <td>-0.419</td> <th>  Prob(JB):          </th> <td>   0.602</td>\n",
       "</tr>\n",
       "<tr>\n",
       "  <th>Kurtosis:</th>      <td> 2.322</td> <th>  Cond. No.          </th> <td>    12.6</td>\n",
       "</tr>\n",
       "</table>"
      ],
      "text/plain": [
       "<class 'statsmodels.iolib.summary.Summary'>\n",
       "\"\"\"\n",
       "                            OLS Regression Results                            \n",
       "==============================================================================\n",
       "Dep. Variable:                      y   R-squared:                       0.974\n",
       "Model:                            OLS   Adj. R-squared:                  0.972\n",
       "Method:                 Least Squares   F-statistic:                     343.9\n",
       "Date:                Sun, 19 Aug 2018   Prob (F-statistic):           4.56e-15\n",
       "Time:                        16:28:41   Log-Likelihood:                 3.5169\n",
       "No. Observations:                  21   AIC:                            -1.034\n",
       "Df Residuals:                      18   BIC:                             2.100\n",
       "Df Model:                           2                                         \n",
       "Covariance Type:            nonrobust                                         \n",
       "==============================================================================\n",
       "                 coef    std err          t      P>|t|      [0.025      0.975]\n",
       "------------------------------------------------------------------------------\n",
       "x              2.0329      0.080     25.518      0.000       1.865       2.200\n",
       "intercept      3.0187      0.268     11.254      0.000       2.455       3.582\n",
       "cos            0.9665      0.160      6.055      0.000       0.631       1.302\n",
       "==============================================================================\n",
       "Omnibus:                        1.083   Durbin-Watson:                   2.530\n",
       "Prob(Omnibus):                  0.582   Jarque-Bera (JB):                1.016\n",
       "Skew:                          -0.419   Prob(JB):                        0.602\n",
       "Kurtosis:                       2.322   Cond. No.                         12.6\n",
       "==============================================================================\n",
       "\n",
       "Warnings:\n",
       "[1] Standard Errors assume that the covariance matrix of the errors is correctly specified.\n",
       "\"\"\""
      ]
     },
     "execution_count": 284,
     "metadata": {},
     "output_type": "execute_result"
    }
   ],
   "source": [
    "X = df[['x', 'intercept', 'cos']]\n",
    "Y = df['y']\n",
    "model = sm.OLS( Y, X ).fit()\n",
    "df['model'] = model.predict(X)\n",
    "model.summary()"
   ]
  },
  {
   "cell_type": "code",
   "execution_count": 318,
   "metadata": {},
   "outputs": [
    {
     "data": {
      "image/png": "[encoded data removed]",
      "text/plain": [
       "<matplotlib.figure.Figure at 0x1152c6588>"
      ]
     },
     "metadata": {},
     "output_type": "display_data"
    }
   ],
   "source": [
    "df[ ['x', 'y','model' ] ].plot( x=\"x\");"
   ]
  },
  {
   "cell_type": "markdown",
   "metadata": {},
   "source": [
    "## add non-contributing column "
   ]
  },
  {
   "cell_type": "code",
   "execution_count": 309,
   "metadata": {},
   "outputs": [
    {
     "data": {
      "text/html": [
       "<div>\n",
       "<style scoped>\n",
       "    .dataframe tbody tr th:only-of-type {\n",
       "        vertical-align: middle;\n",
       "    }\n",
       "\n",
       "    .dataframe tbody tr th {\n",
       "        vertical-align: top;\n",
       "    }\n",
       "\n",
       "    .dataframe thead th {\n",
       "        text-align: right;\n",
       "    }\n",
       "</style>\n",
       "<table border=\"1\" class=\"dataframe\">\n",
       "  <thead>\n",
       "    <tr style=\"text-align: right;\">\n",
       "      <th></th>\n",
       "      <th>x</th>\n",
       "      <th>intercept</th>\n",
       "      <th>cos</th>\n",
       "      <th>sin</th>\n",
       "      <th>y</th>\n",
       "    </tr>\n",
       "  </thead>\n",
       "  <tbody>\n",
       "    <tr>\n",
       "      <th>0</th>\n",
       "      <td>-1.0</td>\n",
       "      <td>1.0</td>\n",
       "      <td>1.080605</td>\n",
       "      <td>-1.682942</td>\n",
       "      <td>2.135667</td>\n",
       "    </tr>\n",
       "    <tr>\n",
       "      <th>1</th>\n",
       "      <td>-0.9</td>\n",
       "      <td>1.0</td>\n",
       "      <td>1.243220</td>\n",
       "      <td>-1.566654</td>\n",
       "      <td>2.577563</td>\n",
       "    </tr>\n",
       "    <tr>\n",
       "      <th>2</th>\n",
       "      <td>-0.8</td>\n",
       "      <td>1.0</td>\n",
       "      <td>1.393413</td>\n",
       "      <td>-1.434712</td>\n",
       "      <td>3.096890</td>\n",
       "    </tr>\n",
       "    <tr>\n",
       "      <th>3</th>\n",
       "      <td>-0.7</td>\n",
       "      <td>1.0</td>\n",
       "      <td>1.529684</td>\n",
       "      <td>-1.288435</td>\n",
       "      <td>3.109143</td>\n",
       "    </tr>\n",
       "    <tr>\n",
       "      <th>4</th>\n",
       "      <td>-0.6</td>\n",
       "      <td>1.0</td>\n",
       "      <td>1.650671</td>\n",
       "      <td>-1.129285</td>\n",
       "      <td>3.409609</td>\n",
       "    </tr>\n",
       "  </tbody>\n",
       "</table>\n",
       "</div>"
      ],
      "text/plain": [
       "     x  intercept       cos       sin         y\n",
       "0 -1.0        1.0  1.080605 -1.682942  2.135667\n",
       "1 -0.9        1.0  1.243220 -1.566654  2.577563\n",
       "2 -0.8        1.0  1.393413 -1.434712  3.096890\n",
       "3 -0.7        1.0  1.529684 -1.288435  3.109143\n",
       "4 -0.6        1.0  1.650671 -1.129285  3.409609"
      ]
     },
     "execution_count": 309,
     "metadata": {},
     "output_type": "execute_result"
    }
   ],
   "source": [
    "x = np.arange(-1, 1.1, .1)\n",
    "df = pd.DataFrame(data=x, columns=['x'])\n",
    "df['intercept'] =np.ones(len(df))\n",
    "df['cos'] = 2*np.cos(df['x'])\n",
    "df['sin'] =  2*np.sin(df['x'])\n",
    "df['y'] = 2*df['x']+3 + df['cos'] + np.random.normal(loc=0.0, scale=.2, size=len(df))\n",
    "df.head()"
   ]
  },
  {
   "cell_type": "code",
   "execution_count": 310,
   "metadata": {},
   "outputs": [
    {
     "data": {
      "text/html": [
       "<table class=\"simpletable\">\n",
       "<caption>OLS Regression Results</caption>\n",
       "<tr>\n",
       "  <th>Dep. Variable:</th>            <td>y</td>        <th>  R-squared:         </th> <td>   0.970</td>\n",
       "</tr>\n",
       "<tr>\n",
       "  <th>Model:</th>                   <td>OLS</td>       <th>  Adj. R-squared:    </th> <td>   0.965</td>\n",
       "</tr>\n",
       "<tr>\n",
       "  <th>Method:</th>             <td>Least Squares</td>  <th>  F-statistic:       </th> <td>   182.9</td>\n",
       "</tr>\n",
       "<tr>\n",
       "  <th>Date:</th>             <td>Sun, 19 Aug 2018</td> <th>  Prob (F-statistic):</th> <td>3.91e-13</td>\n",
       "</tr>\n",
       "<tr>\n",
       "  <th>Time:</th>                 <td>17:38:03</td>     <th>  Log-Likelihood:    </th> <td>  2.8531</td>\n",
       "</tr>\n",
       "<tr>\n",
       "  <th>No. Observations:</th>      <td>    21</td>      <th>  AIC:               </th> <td>   2.294</td>\n",
       "</tr>\n",
       "<tr>\n",
       "  <th>Df Residuals:</th>          <td>    17</td>      <th>  BIC:               </th> <td>   6.472</td>\n",
       "</tr>\n",
       "<tr>\n",
       "  <th>Df Model:</th>              <td>     3</td>      <th>                     </th>     <td> </td>   \n",
       "</tr>\n",
       "<tr>\n",
       "  <th>Covariance Type:</th>      <td>nonrobust</td>    <th>                     </th>     <td> </td>   \n",
       "</tr>\n",
       "</table>\n",
       "<table class=\"simpletable\">\n",
       "<tr>\n",
       "      <td></td>         <th>coef</th>     <th>std err</th>      <th>t</th>      <th>P>|t|</th>  <th>[0.025</th>    <th>0.975]</th>  \n",
       "</tr>\n",
       "<tr>\n",
       "  <th>x</th>         <td>    2.9755</td> <td>    1.698</td> <td>    1.752</td> <td> 0.098</td> <td>   -0.607</td> <td>    6.558</td>\n",
       "</tr>\n",
       "<tr>\n",
       "  <th>intercept</th> <td>    3.1031</td> <td>    0.285</td> <td>   10.893</td> <td> 0.000</td> <td>    2.502</td> <td>    3.704</td>\n",
       "</tr>\n",
       "<tr>\n",
       "  <th>cos</th>       <td>    0.9532</td> <td>    0.170</td> <td>    5.623</td> <td> 0.000</td> <td>    0.596</td> <td>    1.311</td>\n",
       "</tr>\n",
       "<tr>\n",
       "  <th>sin</th>       <td>   -0.5883</td> <td>    0.948</td> <td>   -0.621</td> <td> 0.543</td> <td>   -2.588</td> <td>    1.412</td>\n",
       "</tr>\n",
       "</table>\n",
       "<table class=\"simpletable\">\n",
       "<tr>\n",
       "  <th>Omnibus:</th>       <td> 2.464</td> <th>  Durbin-Watson:     </th> <td>   2.856</td>\n",
       "</tr>\n",
       "<tr>\n",
       "  <th>Prob(Omnibus):</th> <td> 0.292</td> <th>  Jarque-Bera (JB):  </th> <td>   1.553</td>\n",
       "</tr>\n",
       "<tr>\n",
       "  <th>Skew:</th>          <td>-0.666</td> <th>  Prob(JB):          </th> <td>   0.460</td>\n",
       "</tr>\n",
       "<tr>\n",
       "  <th>Kurtosis:</th>      <td> 2.983</td> <th>  Cond. No.          </th> <td>    74.0</td>\n",
       "</tr>\n",
       "</table>"
      ],
      "text/plain": [
       "<class 'statsmodels.iolib.summary.Summary'>\n",
       "\"\"\"\n",
       "                            OLS Regression Results                            \n",
       "==============================================================================\n",
       "Dep. Variable:                      y   R-squared:                       0.970\n",
       "Model:                            OLS   Adj. R-squared:                  0.965\n",
       "Method:                 Least Squares   F-statistic:                     182.9\n",
       "Date:                Sun, 19 Aug 2018   Prob (F-statistic):           3.91e-13\n",
       "Time:                        17:38:03   Log-Likelihood:                 2.8531\n",
       "No. Observations:                  21   AIC:                             2.294\n",
       "Df Residuals:                      17   BIC:                             6.472\n",
       "Df Model:                           3                                         \n",
       "Covariance Type:            nonrobust                                         \n",
       "==============================================================================\n",
       "                 coef    std err          t      P>|t|      [0.025      0.975]\n",
       "------------------------------------------------------------------------------\n",
       "x              2.9755      1.698      1.752      0.098      -0.607       6.558\n",
       "intercept      3.1031      0.285     10.893      0.000       2.502       3.704\n",
       "cos            0.9532      0.170      5.623      0.000       0.596       1.311\n",
       "sin           -0.5883      0.948     -0.621      0.543      -2.588       1.412\n",
       "==============================================================================\n",
       "Omnibus:                        2.464   Durbin-Watson:                   2.856\n",
       "Prob(Omnibus):                  0.292   Jarque-Bera (JB):                1.553\n",
       "Skew:                          -0.666   Prob(JB):                        0.460\n",
       "Kurtosis:                       2.983   Cond. No.                         74.0\n",
       "==============================================================================\n",
       "\n",
       "Warnings:\n",
       "[1] Standard Errors assume that the covariance matrix of the errors is correctly specified.\n",
       "\"\"\""
      ]
     },
     "execution_count": 310,
     "metadata": {},
     "output_type": "execute_result"
    }
   ],
   "source": [
    "X = df[['x', 'intercept', 'cos', 'sin']]\n",
    "Y = df['y']\n",
    "model = sm.OLS( Y, X ).fit()\n",
    "df['model'] = model.predict(X)\n",
    "model.summary()"
   ]
  },
  {
   "cell_type": "code",
   "execution_count": 317,
   "metadata": {},
   "outputs": [
    {
     "data": {
      "image/png": "[encoded data removed]",
      "text/plain": [
       "<matplotlib.figure.Figure at 0x10f676128>"
      ]
     },
     "metadata": {},
     "output_type": "display_data"
    }
   ],
   "source": [
    "df[ ['x', 'y','model' ] ].plot( x=\"x\");"
   ]
  },
  {
   "cell_type": "code",
   "execution_count": null,
   "metadata": {
    "collapsed": true
   },
   "outputs": [],
   "source": []
  }
 ],
 "metadata": {
  "kernelspec": {
   "display_name": "Python 3",
   "language": "python",
   "name": "python3"
  },
  "language_info": {
   "codemirror_mode": {
    "name": "ipython",
    "version": 3
   },
   "file_extension": ".py",
   "mimetype": "text/x-python",
   "name": "python",
   "nbconvert_exporter": "python",
   "pygments_lexer": "ipython3",
   "version": "3.6.3"
  },
  "toc": {
   "nav_menu": {},
   "number_sections": true,
   "sideBar": true,
   "skip_h1_title": false,
   "toc_cell": false,
   "toc_position": {},
   "toc_section_display": "block",
   "toc_window_display": false
  }
 },
 "nbformat": 4,
 "nbformat_minor": 2
}
